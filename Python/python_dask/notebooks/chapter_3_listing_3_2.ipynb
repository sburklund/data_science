{
 "cells": [
  {
   "cell_type": "code",
   "execution_count": 1,
   "metadata": {},
   "outputs": [],
   "source": [
    "import pandas\n",
    "import dask.dataframe as daskDataFrame\n",
    "\n",
    "person_IDs = [1,2,3,4,5,6,7,8,9,10]\n",
    "person_last_names = ['Smith', 'Williams', 'Williams', 'Jackson', 'Johnson', 'Smith', \n",
    "                    'Anderson', 'Christiansen', 'Carter', 'Davidson']\n",
    "person_first_names = ['John', 'Bill', 'Jane', 'Cathy', 'Sturart', 'James', \n",
    "                     'Felicity', 'Liam', 'Nancy', 'Christina']\n",
    "person_DOBs = ['1982-10-26', '1990-07-04', '1989-05-06', '1974-01-24', '1995-06-05', \n",
    "              '1984-04-16', '1976-09-15', '1992-10-02', '1986-02-05', '1993-08-11']\n",
    "\n",
    "peoplePandasDataFrame = pandas.DataFrame({'Person ID' : person_IDs, \n",
    "                                         'Last Name' : person_last_names, \n",
    "                                         'First Name' : person_first_names, \n",
    "                                         'Date of Birth' : person_DOBs}, \n",
    "                                        columns = ['Person ID', 'Last Name', 'First Name', 'Date of Birth'])\n",
    "peopleDaskDataFrame = daskDataFrame.from_pandas(peoplePandasDataFrame, \n",
    "                                               npartitions = 2)\n"
   ]
  },
  {
   "cell_type": "code",
   "execution_count": 2,
   "metadata": {},
   "outputs": [
    {
     "data": {
      "text/html": [
       "<div>\n",
       "<style scoped>\n",
       "    .dataframe tbody tr th:only-of-type {\n",
       "        vertical-align: middle;\n",
       "    }\n",
       "\n",
       "    .dataframe tbody tr th {\n",
       "        vertical-align: top;\n",
       "    }\n",
       "\n",
       "    .dataframe thead th {\n",
       "        text-align: right;\n",
       "    }\n",
       "</style>\n",
       "<table border=\"1\" class=\"dataframe\">\n",
       "  <thead>\n",
       "    <tr style=\"text-align: right;\">\n",
       "      <th></th>\n",
       "      <th>Person ID</th>\n",
       "      <th>Last Name</th>\n",
       "      <th>First Name</th>\n",
       "      <th>Date of Birth</th>\n",
       "    </tr>\n",
       "  </thead>\n",
       "  <tbody>\n",
       "    <tr>\n",
       "      <th>0</th>\n",
       "      <td>1</td>\n",
       "      <td>Smith</td>\n",
       "      <td>John</td>\n",
       "      <td>1982-10-26</td>\n",
       "    </tr>\n",
       "    <tr>\n",
       "      <th>1</th>\n",
       "      <td>2</td>\n",
       "      <td>Williams</td>\n",
       "      <td>Bill</td>\n",
       "      <td>1990-07-04</td>\n",
       "    </tr>\n",
       "    <tr>\n",
       "      <th>2</th>\n",
       "      <td>3</td>\n",
       "      <td>Williams</td>\n",
       "      <td>Jane</td>\n",
       "      <td>1989-05-06</td>\n",
       "    </tr>\n",
       "    <tr>\n",
       "      <th>3</th>\n",
       "      <td>4</td>\n",
       "      <td>Jackson</td>\n",
       "      <td>Cathy</td>\n",
       "      <td>1974-01-24</td>\n",
       "    </tr>\n",
       "    <tr>\n",
       "      <th>4</th>\n",
       "      <td>5</td>\n",
       "      <td>Johnson</td>\n",
       "      <td>Sturart</td>\n",
       "      <td>1995-06-05</td>\n",
       "    </tr>\n",
       "    <tr>\n",
       "      <th>5</th>\n",
       "      <td>6</td>\n",
       "      <td>Smith</td>\n",
       "      <td>James</td>\n",
       "      <td>1984-04-16</td>\n",
       "    </tr>\n",
       "    <tr>\n",
       "      <th>6</th>\n",
       "      <td>7</td>\n",
       "      <td>Anderson</td>\n",
       "      <td>Felicity</td>\n",
       "      <td>1976-09-15</td>\n",
       "    </tr>\n",
       "    <tr>\n",
       "      <th>7</th>\n",
       "      <td>8</td>\n",
       "      <td>Christiansen</td>\n",
       "      <td>Liam</td>\n",
       "      <td>1992-10-02</td>\n",
       "    </tr>\n",
       "    <tr>\n",
       "      <th>8</th>\n",
       "      <td>9</td>\n",
       "      <td>Carter</td>\n",
       "      <td>Nancy</td>\n",
       "      <td>1986-02-05</td>\n",
       "    </tr>\n",
       "    <tr>\n",
       "      <th>9</th>\n",
       "      <td>10</td>\n",
       "      <td>Davidson</td>\n",
       "      <td>Christina</td>\n",
       "      <td>1993-08-11</td>\n",
       "    </tr>\n",
       "  </tbody>\n",
       "</table>\n",
       "</div>"
      ],
      "text/plain": [
       "   Person ID     Last Name First Name Date of Birth\n",
       "0          1         Smith       John    1982-10-26\n",
       "1          2      Williams       Bill    1990-07-04\n",
       "2          3      Williams       Jane    1989-05-06\n",
       "3          4       Jackson      Cathy    1974-01-24\n",
       "4          5       Johnson    Sturart    1995-06-05\n",
       "5          6         Smith      James    1984-04-16\n",
       "6          7      Anderson   Felicity    1976-09-15\n",
       "7          8  Christiansen       Liam    1992-10-02\n",
       "8          9        Carter      Nancy    1986-02-05\n",
       "9         10      Davidson  Christina    1993-08-11"
      ]
     },
     "execution_count": 2,
     "metadata": {},
     "output_type": "execute_result"
    }
   ],
   "source": [
    "peoplePandasDataFrame.head(10)"
   ]
  },
  {
   "cell_type": "code",
   "execution_count": 3,
   "metadata": {},
   "outputs": [
    {
     "data": {
      "text/html": [
       "<div>\n",
       "<style scoped>\n",
       "    .dataframe tbody tr th:only-of-type {\n",
       "        vertical-align: middle;\n",
       "    }\n",
       "\n",
       "    .dataframe tbody tr th {\n",
       "        vertical-align: top;\n",
       "    }\n",
       "\n",
       "    .dataframe thead th {\n",
       "        text-align: right;\n",
       "    }\n",
       "</style>\n",
       "<table border=\"1\" class=\"dataframe\">\n",
       "  <thead>\n",
       "    <tr style=\"text-align: right;\">\n",
       "      <th></th>\n",
       "      <th>Person ID</th>\n",
       "      <th>Last Name</th>\n",
       "      <th>First Name</th>\n",
       "      <th>Date of Birth</th>\n",
       "    </tr>\n",
       "  </thead>\n",
       "  <tbody>\n",
       "    <tr>\n",
       "      <th>0</th>\n",
       "      <td>1</td>\n",
       "      <td>Smith</td>\n",
       "      <td>John</td>\n",
       "      <td>1982-10-26</td>\n",
       "    </tr>\n",
       "    <tr>\n",
       "      <th>1</th>\n",
       "      <td>2</td>\n",
       "      <td>Williams</td>\n",
       "      <td>Bill</td>\n",
       "      <td>1990-07-04</td>\n",
       "    </tr>\n",
       "    <tr>\n",
       "      <th>2</th>\n",
       "      <td>3</td>\n",
       "      <td>Williams</td>\n",
       "      <td>Jane</td>\n",
       "      <td>1989-05-06</td>\n",
       "    </tr>\n",
       "    <tr>\n",
       "      <th>3</th>\n",
       "      <td>4</td>\n",
       "      <td>Jackson</td>\n",
       "      <td>Cathy</td>\n",
       "      <td>1974-01-24</td>\n",
       "    </tr>\n",
       "    <tr>\n",
       "      <th>4</th>\n",
       "      <td>5</td>\n",
       "      <td>Johnson</td>\n",
       "      <td>Sturart</td>\n",
       "      <td>1995-06-05</td>\n",
       "    </tr>\n",
       "  </tbody>\n",
       "</table>\n",
       "</div>"
      ],
      "text/plain": [
       "   Person ID Last Name First Name Date of Birth\n",
       "0          1     Smith       John    1982-10-26\n",
       "1          2  Williams       Bill    1990-07-04\n",
       "2          3  Williams       Jane    1989-05-06\n",
       "3          4   Jackson      Cathy    1974-01-24\n",
       "4          5   Johnson    Sturart    1995-06-05"
      ]
     },
     "execution_count": 3,
     "metadata": {},
     "output_type": "execute_result"
    }
   ],
   "source": [
    "peopleDaskDataFrame.head(10)"
   ]
  },
  {
   "cell_type": "code",
   "execution_count": 4,
   "metadata": {},
   "outputs": [
    {
     "name": "stdout",
     "output_type": "stream",
     "text": [
      "(0, 5, 9)\n"
     ]
    }
   ],
   "source": [
    "print(peopleDaskDataFrame.divisions)"
   ]
  },
  {
   "cell_type": "code",
   "execution_count": 5,
   "metadata": {},
   "outputs": [
    {
     "name": "stdout",
     "output_type": "stream",
     "text": [
      "2\n"
     ]
    }
   ],
   "source": [
    "print(peopleDaskDataFrame.npartitions)"
   ]
  },
  {
   "cell_type": "code",
   "execution_count": 6,
   "metadata": {},
   "outputs": [
    {
     "data": {
      "text/plain": [
       "0    5\n",
       "1    5\n",
       "dtype: int64"
      ]
     },
     "execution_count": 6,
     "metadata": {},
     "output_type": "execute_result"
    }
   ],
   "source": [
    "peopleDaskDataFrame.map_partitions(len).compute()"
   ]
  },
  {
   "cell_type": "code",
   "execution_count": 7,
   "metadata": {},
   "outputs": [
    {
     "name": "stdout",
     "output_type": "stream",
     "text": [
      "0    3\n",
      "1    5\n",
      "dtype: int64\n"
     ]
    }
   ],
   "source": [
    "people_filtered = peopleDaskDataFrame[peopleDaskDataFrame['Last Name'] != 'Williams']\n",
    "print(people_filtered.map_partitions(len).compute())"
   ]
  },
  {
   "cell_type": "code",
   "execution_count": 8,
   "metadata": {},
   "outputs": [
    {
     "name": "stdout",
     "output_type": "stream",
     "text": [
      "0    8\n",
      "dtype: int64\n"
     ]
    }
   ],
   "source": [
    "people_filtered_reduced = people_filtered.repartition(npartitions = 1)\n",
    "print(people_filtered_reduced.map_partitions(len).compute())"
   ]
  },
  {
   "cell_type": "code",
   "execution_count": null,
   "metadata": {},
   "outputs": [],
   "source": []
  }
 ],
 "metadata": {
  "kernelspec": {
   "display_name": "Python 3",
   "language": "python",
   "name": "python3"
  },
  "language_info": {
   "codemirror_mode": {
    "name": "ipython",
    "version": 3
   },
   "file_extension": ".py",
   "mimetype": "text/x-python",
   "name": "python",
   "nbconvert_exporter": "python",
   "pygments_lexer": "ipython3",
   "version": "3.8.1"
  }
 },
 "nbformat": 4,
 "nbformat_minor": 2
}
